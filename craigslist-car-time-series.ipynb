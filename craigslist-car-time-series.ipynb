{
 "cells": [
  {
   "cell_type": "code",
   "execution_count": 1,
   "id": "414a0ee9",
   "metadata": {
    "_cell_guid": "b1076dfc-b9ad-4769-8c92-a6c4dae69d19",
    "_uuid": "8f2839f25d086af736a60e9eeb907d3b93b6e0e5",
    "execution": {
     "iopub.execute_input": "2023-10-27T21:10:09.058671Z",
     "iopub.status.busy": "2023-10-27T21:10:09.058305Z",
     "iopub.status.idle": "2023-10-27T21:10:09.950526Z",
     "shell.execute_reply": "2023-10-27T21:10:09.948801Z"
    },
    "papermill": {
     "duration": 0.904686,
     "end_time": "2023-10-27T21:10:09.953288",
     "exception": false,
     "start_time": "2023-10-27T21:10:09.048602",
     "status": "completed"
    },
    "tags": []
   },
   "outputs": [
    {
     "name": "stdout",
     "output_type": "stream",
     "text": [
      "/kaggle/input/craigslist-vehicles/craigslist_vehicles.csv\n"
     ]
    }
   ],
   "source": [
    "# This Python 3 environment comes with many helpful analytics libraries installed\n",
    "# It is defined by the kaggle/python Docker image: https://github.com/kaggle/docker-python\n",
    "# For example, here's several helpful packages to load\n",
    "\n",
    "import numpy as np # linear algebra\n",
    "import pandas as pd # data processing, CSV file I/O (e.g. pd.read_csv)\n",
    "\n",
    "# Input data files are available in the read-only \"../input/\" directory\n",
    "# For example, running this (by clicking run or pressing Shift+Enter) will list all files under the input directory\n",
    "\n",
    "import os\n",
    "for dirname, _, filenames in os.walk('/kaggle/input'):\n",
    "    for filename in filenames:\n",
    "        print(os.path.join(dirname, filename))\n",
    "\n",
    "# You can write up to 20GB to the current directory (/kaggle/working/) that gets preserved as output when you create a version using \"Save & Run All\" \n",
    "# You can also write temporary files to /kaggle/temp/, but they won't be saved outside of the current session"
   ]
  },
  {
   "cell_type": "code",
   "execution_count": 2,
   "id": "30ec5f4e",
   "metadata": {
    "execution": {
     "iopub.execute_input": "2023-10-27T21:10:09.970156Z",
     "iopub.status.busy": "2023-10-27T21:10:09.969450Z",
     "iopub.status.idle": "2023-10-27T21:10:26.683408Z",
     "shell.execute_reply": "2023-10-27T21:10:26.682327Z"
    },
    "papermill": {
     "duration": 16.725062,
     "end_time": "2023-10-27T21:10:26.685844",
     "exception": false,
     "start_time": "2023-10-27T21:10:09.960782",
     "status": "completed"
    },
    "tags": []
   },
   "outputs": [
    {
     "name": "stdout",
     "output_type": "stream",
     "text": [
      "Collecting pyforest\r\n",
      "  Downloading pyforest-1.1.0.tar.gz (15 kB)\r\n",
      "  Preparing metadata (setup.py) ... \u001b[?25l-\b \b\\\b \b|\b \bdone\r\n",
      "\u001b[?25hBuilding wheels for collected packages: pyforest\r\n",
      "  Building wheel for pyforest (setup.py) ... \u001b[?25l-\b \b\\\b \b|\b \b/\b \bdone\r\n",
      "\u001b[?25h  Created wheel for pyforest: filename=pyforest-1.1.0-py2.py3-none-any.whl size=14606 sha256=09161f291ef04e37b5ebd9d29b039a9d2e4f200b7cd47354a6c374a150fa067e\r\n",
      "  Stored in directory: /root/.cache/pip/wheels/9e/7d/2c/5d2f5e62de376c386fd3bf5a8e5bd119ace6a9f48f49df6017\r\n",
      "Successfully built pyforest\r\n",
      "Installing collected packages: pyforest\r\n",
      "Successfully installed pyforest-1.1.0\r\n",
      "Note: you may need to restart the kernel to use updated packages.\n"
     ]
    }
   ],
   "source": [
    "%pip install pyforest\n",
    "import pyforest"
   ]
  },
  {
   "cell_type": "code",
   "execution_count": 3,
   "id": "a2e91d82",
   "metadata": {
    "execution": {
     "iopub.execute_input": "2023-10-27T21:10:26.705049Z",
     "iopub.status.busy": "2023-10-27T21:10:26.704003Z",
     "iopub.status.idle": "2023-10-27T21:11:14.274495Z",
     "shell.execute_reply": "2023-10-27T21:11:14.273159Z"
    },
    "papermill": {
     "duration": 47.58293,
     "end_time": "2023-10-27T21:11:14.277280",
     "exception": false,
     "start_time": "2023-10-27T21:10:26.694350",
     "status": "completed"
    },
    "tags": []
   },
   "outputs": [],
   "source": [
    "data = pd.read_csv('/kaggle/input/craigslist-vehicles/craigslist_vehicles.csv')"
   ]
  },
  {
   "cell_type": "code",
   "execution_count": 4,
   "id": "9e66eaa2",
   "metadata": {
    "execution": {
     "iopub.execute_input": "2023-10-27T21:11:14.295848Z",
     "iopub.status.busy": "2023-10-27T21:11:14.295397Z",
     "iopub.status.idle": "2023-10-27T21:11:14.752602Z",
     "shell.execute_reply": "2023-10-27T21:11:14.751457Z"
    },
    "papermill": {
     "duration": 0.468821,
     "end_time": "2023-10-27T21:11:14.754794",
     "exception": false,
     "start_time": "2023-10-27T21:11:14.285973",
     "status": "completed"
    },
    "tags": []
   },
   "outputs": [
    {
     "name": "stdout",
     "output_type": "stream",
     "text": [
      "<class 'pandas.core.frame.DataFrame'>\n",
      "RangeIndex: 426880 entries, 0 to 426879\n",
      "Data columns (total 28 columns):\n",
      " #   Column        Non-Null Count   Dtype  \n",
      "---  ------        --------------   -----  \n",
      " 0   Unnamed: 0    426880 non-null  int64  \n",
      " 1   id            426880 non-null  int64  \n",
      " 2   url           426880 non-null  object \n",
      " 3   region        426880 non-null  object \n",
      " 4   region_url    426880 non-null  object \n",
      " 5   price         426880 non-null  int64  \n",
      " 6   year          425675 non-null  float64\n",
      " 7   manufacturer  409234 non-null  object \n",
      " 8   model         421603 non-null  object \n",
      " 9   condition     252776 non-null  object \n",
      " 10  cylinders     249202 non-null  object \n",
      " 11  fuel          423867 non-null  object \n",
      " 12  odometer      422480 non-null  float64\n",
      " 13  title_status  418638 non-null  object \n",
      " 14  transmission  424324 non-null  object \n",
      " 15  VIN           265838 non-null  object \n",
      " 16  drive         296313 non-null  object \n",
      " 17  size          120519 non-null  object \n",
      " 18  type          334022 non-null  object \n",
      " 19  paint_color   296677 non-null  object \n",
      " 20  image_url     426812 non-null  object \n",
      " 21  description   426810 non-null  object \n",
      " 22  county        0 non-null       float64\n",
      " 23  state         426880 non-null  object \n",
      " 24  lat           420331 non-null  float64\n",
      " 25  long          420331 non-null  float64\n",
      " 26  posting_date  426812 non-null  object \n",
      " 27  removal_date  426812 non-null  object \n",
      "dtypes: float64(5), int64(3), object(20)\n",
      "memory usage: 91.2+ MB\n"
     ]
    },
    {
     "data": {
      "text/plain": [
       "(None, (426880, 28))"
      ]
     },
     "execution_count": 4,
     "metadata": {},
     "output_type": "execute_result"
    }
   ],
   "source": [
    "data.info(), data.shape"
   ]
  },
  {
   "cell_type": "code",
   "execution_count": 5,
   "id": "00c254b4",
   "metadata": {
    "execution": {
     "iopub.execute_input": "2023-10-27T21:11:14.773195Z",
     "iopub.status.busy": "2023-10-27T21:11:14.772775Z",
     "iopub.status.idle": "2023-10-27T21:11:15.190040Z",
     "shell.execute_reply": "2023-10-27T21:11:15.189142Z"
    },
    "papermill": {
     "duration": 0.429084,
     "end_time": "2023-10-27T21:11:15.192249",
     "exception": false,
     "start_time": "2023-10-27T21:11:14.763165",
     "status": "completed"
    },
    "tags": []
   },
   "outputs": [
    {
     "data": {
      "text/plain": [
       "Unnamed: 0           0\n",
       "id                   0\n",
       "url                  0\n",
       "region               0\n",
       "region_url           0\n",
       "price                0\n",
       "year              1205\n",
       "manufacturer     17646\n",
       "model             5277\n",
       "condition       174104\n",
       "cylinders       177678\n",
       "fuel              3013\n",
       "odometer          4400\n",
       "title_status      8242\n",
       "transmission      2556\n",
       "VIN             161042\n",
       "drive           130567\n",
       "size            306361\n",
       "type             92858\n",
       "paint_color     130203\n",
       "image_url           68\n",
       "description         70\n",
       "county          426880\n",
       "state                0\n",
       "lat               6549\n",
       "long              6549\n",
       "posting_date        68\n",
       "removal_date        68\n",
       "dtype: int64"
      ]
     },
     "execution_count": 5,
     "metadata": {},
     "output_type": "execute_result"
    }
   ],
   "source": [
    "data.isnull().sum()"
   ]
  },
  {
   "cell_type": "code",
   "execution_count": 6,
   "id": "5bbc5d4b",
   "metadata": {
    "execution": {
     "iopub.execute_input": "2023-10-27T21:11:15.212106Z",
     "iopub.status.busy": "2023-10-27T21:11:15.211696Z",
     "iopub.status.idle": "2023-10-27T21:11:15.216530Z",
     "shell.execute_reply": "2023-10-27T21:11:15.215424Z"
    },
    "papermill": {
     "duration": 0.017434,
     "end_time": "2023-10-27T21:11:15.218721",
     "exception": false,
     "start_time": "2023-10-27T21:11:15.201287",
     "status": "completed"
    },
    "tags": []
   },
   "outputs": [],
   "source": [
    "cols_drop = ['Unnamed: 0','url','image_url', 'county', 'region_url', 'paint_color','size', 'drive', 'VIN']"
   ]
  },
  {
   "cell_type": "code",
   "execution_count": 7,
   "id": "1f24d0f0",
   "metadata": {
    "execution": {
     "iopub.execute_input": "2023-10-27T21:11:15.237868Z",
     "iopub.status.busy": "2023-10-27T21:11:15.236959Z",
     "iopub.status.idle": "2023-10-27T21:11:15.435471Z",
     "shell.execute_reply": "2023-10-27T21:11:15.434320Z"
    },
    "papermill": {
     "duration": 0.210964,
     "end_time": "2023-10-27T21:11:15.438216",
     "exception": false,
     "start_time": "2023-10-27T21:11:15.227252",
     "status": "completed"
    },
    "tags": []
   },
   "outputs": [],
   "source": [
    "data.drop(data[cols_drop], axis=1, inplace=True)"
   ]
  },
  {
   "cell_type": "code",
   "execution_count": 8,
   "id": "0f8fc0f4",
   "metadata": {
    "execution": {
     "iopub.execute_input": "2023-10-27T21:11:15.456990Z",
     "iopub.status.busy": "2023-10-27T21:11:15.456548Z",
     "iopub.status.idle": "2023-10-27T21:11:15.750831Z",
     "shell.execute_reply": "2023-10-27T21:11:15.749684Z"
    },
    "papermill": {
     "duration": 0.306412,
     "end_time": "2023-10-27T21:11:15.753163",
     "exception": false,
     "start_time": "2023-10-27T21:11:15.446751",
     "status": "completed"
    },
    "tags": []
   },
   "outputs": [
    {
     "data": {
      "text/plain": [
       "id                   0\n",
       "region               0\n",
       "price                0\n",
       "year              1205\n",
       "manufacturer     17646\n",
       "model             5277\n",
       "condition       174104\n",
       "cylinders       177678\n",
       "fuel              3013\n",
       "odometer          4400\n",
       "title_status      8242\n",
       "transmission      2556\n",
       "type             92858\n",
       "description         70\n",
       "state                0\n",
       "lat               6549\n",
       "long              6549\n",
       "posting_date        68\n",
       "removal_date        68\n",
       "dtype: int64"
      ]
     },
     "execution_count": 8,
     "metadata": {},
     "output_type": "execute_result"
    }
   ],
   "source": [
    "data.isnull().sum()"
   ]
  },
  {
   "cell_type": "code",
   "execution_count": 9,
   "id": "26eb3053",
   "metadata": {
    "execution": {
     "iopub.execute_input": "2023-10-27T21:11:15.772257Z",
     "iopub.status.busy": "2023-10-27T21:11:15.771856Z",
     "iopub.status.idle": "2023-10-27T21:11:15.799327Z",
     "shell.execute_reply": "2023-10-27T21:11:15.798218Z"
    },
    "papermill": {
     "duration": 0.039889,
     "end_time": "2023-10-27T21:11:15.801874",
     "exception": false,
     "start_time": "2023-10-27T21:11:15.761985",
     "status": "completed"
    },
    "tags": []
   },
   "outputs": [
    {
     "data": {
      "text/html": [
       "<div>\n",
       "<style scoped>\n",
       "    .dataframe tbody tr th:only-of-type {\n",
       "        vertical-align: middle;\n",
       "    }\n",
       "\n",
       "    .dataframe tbody tr th {\n",
       "        vertical-align: top;\n",
       "    }\n",
       "\n",
       "    .dataframe thead th {\n",
       "        text-align: right;\n",
       "    }\n",
       "</style>\n",
       "<table border=\"1\" class=\"dataframe\">\n",
       "  <thead>\n",
       "    <tr style=\"text-align: right;\">\n",
       "      <th></th>\n",
       "      <th>id</th>\n",
       "      <th>region</th>\n",
       "      <th>price</th>\n",
       "      <th>year</th>\n",
       "      <th>manufacturer</th>\n",
       "      <th>model</th>\n",
       "      <th>condition</th>\n",
       "      <th>cylinders</th>\n",
       "      <th>fuel</th>\n",
       "      <th>odometer</th>\n",
       "      <th>title_status</th>\n",
       "      <th>transmission</th>\n",
       "      <th>type</th>\n",
       "      <th>description</th>\n",
       "      <th>state</th>\n",
       "      <th>lat</th>\n",
       "      <th>long</th>\n",
       "      <th>posting_date</th>\n",
       "      <th>removal_date</th>\n",
       "    </tr>\n",
       "  </thead>\n",
       "  <tbody>\n",
       "    <tr>\n",
       "      <th>0</th>\n",
       "      <td>7307679724</td>\n",
       "      <td>abilene</td>\n",
       "      <td>4500</td>\n",
       "      <td>2002.0</td>\n",
       "      <td>bmw</td>\n",
       "      <td>x5</td>\n",
       "      <td>NaN</td>\n",
       "      <td>NaN</td>\n",
       "      <td>gas</td>\n",
       "      <td>184000.0</td>\n",
       "      <td>clean</td>\n",
       "      <td>automatic</td>\n",
       "      <td>NaN</td>\n",
       "      <td>$4,500 Cash  2002 BMW X5  8 cylinder 4.4L moto...</td>\n",
       "      <td>tx</td>\n",
       "      <td>32.401556</td>\n",
       "      <td>-99.884713</td>\n",
       "      <td>2021-04-16 00:00:00+00:00</td>\n",
       "      <td>2021-05-02 00:00:00+00:00</td>\n",
       "    </tr>\n",
       "    <tr>\n",
       "      <th>1</th>\n",
       "      <td>7311833696</td>\n",
       "      <td>abilene</td>\n",
       "      <td>4500</td>\n",
       "      <td>2002.0</td>\n",
       "      <td>bmw</td>\n",
       "      <td>x5</td>\n",
       "      <td>NaN</td>\n",
       "      <td>NaN</td>\n",
       "      <td>gas</td>\n",
       "      <td>184000.0</td>\n",
       "      <td>clean</td>\n",
       "      <td>automatic</td>\n",
       "      <td>NaN</td>\n",
       "      <td>$4,500 Cash  2002 BMW X5  8 cylinder 4.4L moto...</td>\n",
       "      <td>tx</td>\n",
       "      <td>32.401556</td>\n",
       "      <td>-99.884713</td>\n",
       "      <td>2021-04-24 00:00:00+00:00</td>\n",
       "      <td>2021-04-28 00:00:00+00:00</td>\n",
       "    </tr>\n",
       "    <tr>\n",
       "      <th>2</th>\n",
       "      <td>7311441996</td>\n",
       "      <td>abilene</td>\n",
       "      <td>4900</td>\n",
       "      <td>2006.0</td>\n",
       "      <td>toyota</td>\n",
       "      <td>camry</td>\n",
       "      <td>excellent</td>\n",
       "      <td>4 cylinders</td>\n",
       "      <td>gas</td>\n",
       "      <td>184930.0</td>\n",
       "      <td>clean</td>\n",
       "      <td>automatic</td>\n",
       "      <td>sedan</td>\n",
       "      <td>2006 TOYOTA CAMRY LE Sedan   Ready To Upgrade ...</td>\n",
       "      <td>tx</td>\n",
       "      <td>32.453848</td>\n",
       "      <td>-99.787900</td>\n",
       "      <td>2021-04-23 00:00:00+00:00</td>\n",
       "      <td>2021-05-25 00:00:00+00:00</td>\n",
       "    </tr>\n",
       "    <tr>\n",
       "      <th>3</th>\n",
       "      <td>7307680715</td>\n",
       "      <td>abilene</td>\n",
       "      <td>6500</td>\n",
       "      <td>2008.0</td>\n",
       "      <td>ford</td>\n",
       "      <td>expedition</td>\n",
       "      <td>NaN</td>\n",
       "      <td>NaN</td>\n",
       "      <td>gas</td>\n",
       "      <td>206000.0</td>\n",
       "      <td>clean</td>\n",
       "      <td>automatic</td>\n",
       "      <td>NaN</td>\n",
       "      <td>$6500.00 2008 Ford Expedition  8 cylinder 5.4L...</td>\n",
       "      <td>tx</td>\n",
       "      <td>32.401556</td>\n",
       "      <td>-99.884713</td>\n",
       "      <td>2021-04-16 00:00:00+00:00</td>\n",
       "      <td>2021-04-26 00:00:00+00:00</td>\n",
       "    </tr>\n",
       "    <tr>\n",
       "      <th>4</th>\n",
       "      <td>7311834578</td>\n",
       "      <td>abilene</td>\n",
       "      <td>6500</td>\n",
       "      <td>2008.0</td>\n",
       "      <td>ford</td>\n",
       "      <td>expedition</td>\n",
       "      <td>NaN</td>\n",
       "      <td>NaN</td>\n",
       "      <td>gas</td>\n",
       "      <td>206000.0</td>\n",
       "      <td>clean</td>\n",
       "      <td>automatic</td>\n",
       "      <td>NaN</td>\n",
       "      <td>$6500.00 2008 Ford Expedition  8 cylinder 5.4L...</td>\n",
       "      <td>tx</td>\n",
       "      <td>32.401556</td>\n",
       "      <td>-99.884713</td>\n",
       "      <td>2021-04-24 00:00:00+00:00</td>\n",
       "      <td>2021-05-12 00:00:00+00:00</td>\n",
       "    </tr>\n",
       "  </tbody>\n",
       "</table>\n",
       "</div>"
      ],
      "text/plain": [
       "           id   region  price    year manufacturer       model  condition  \\\n",
       "0  7307679724  abilene   4500  2002.0          bmw          x5        NaN   \n",
       "1  7311833696  abilene   4500  2002.0          bmw          x5        NaN   \n",
       "2  7311441996  abilene   4900  2006.0       toyota       camry  excellent   \n",
       "3  7307680715  abilene   6500  2008.0         ford  expedition        NaN   \n",
       "4  7311834578  abilene   6500  2008.0         ford  expedition        NaN   \n",
       "\n",
       "     cylinders fuel  odometer title_status transmission   type  \\\n",
       "0          NaN  gas  184000.0        clean    automatic    NaN   \n",
       "1          NaN  gas  184000.0        clean    automatic    NaN   \n",
       "2  4 cylinders  gas  184930.0        clean    automatic  sedan   \n",
       "3          NaN  gas  206000.0        clean    automatic    NaN   \n",
       "4          NaN  gas  206000.0        clean    automatic    NaN   \n",
       "\n",
       "                                         description state        lat  \\\n",
       "0  $4,500 Cash  2002 BMW X5  8 cylinder 4.4L moto...    tx  32.401556   \n",
       "1  $4,500 Cash  2002 BMW X5  8 cylinder 4.4L moto...    tx  32.401556   \n",
       "2  2006 TOYOTA CAMRY LE Sedan   Ready To Upgrade ...    tx  32.453848   \n",
       "3  $6500.00 2008 Ford Expedition  8 cylinder 5.4L...    tx  32.401556   \n",
       "4  $6500.00 2008 Ford Expedition  8 cylinder 5.4L...    tx  32.401556   \n",
       "\n",
       "        long               posting_date               removal_date  \n",
       "0 -99.884713  2021-04-16 00:00:00+00:00  2021-05-02 00:00:00+00:00  \n",
       "1 -99.884713  2021-04-24 00:00:00+00:00  2021-04-28 00:00:00+00:00  \n",
       "2 -99.787900  2021-04-23 00:00:00+00:00  2021-05-25 00:00:00+00:00  \n",
       "3 -99.884713  2021-04-16 00:00:00+00:00  2021-04-26 00:00:00+00:00  \n",
       "4 -99.884713  2021-04-24 00:00:00+00:00  2021-05-12 00:00:00+00:00  "
      ]
     },
     "execution_count": 9,
     "metadata": {},
     "output_type": "execute_result"
    }
   ],
   "source": [
    "data.head()"
   ]
  },
  {
   "cell_type": "code",
   "execution_count": 10,
   "id": "e0464574",
   "metadata": {
    "execution": {
     "iopub.execute_input": "2023-10-27T21:11:15.821762Z",
     "iopub.status.busy": "2023-10-27T21:11:15.821352Z",
     "iopub.status.idle": "2023-10-27T21:11:15.856186Z",
     "shell.execute_reply": "2023-10-27T21:11:15.855114Z"
    },
    "papermill": {
     "duration": 0.04774,
     "end_time": "2023-10-27T21:11:15.858306",
     "exception": false,
     "start_time": "2023-10-27T21:11:15.810566",
     "status": "completed"
    },
    "tags": []
   },
   "outputs": [
    {
     "data": {
      "text/plain": [
       "cylinders\n",
       "6 cylinders     94169\n",
       "4 cylinders     77642\n",
       "8 cylinders     72062\n",
       "5 cylinders      1712\n",
       "10 cylinders     1455\n",
       "other            1298\n",
       "3 cylinders       655\n",
       "12 cylinders      209\n",
       "Name: count, dtype: int64"
      ]
     },
     "execution_count": 10,
     "metadata": {},
     "output_type": "execute_result"
    }
   ],
   "source": [
    "data.cylinders.value_counts()"
   ]
  },
  {
   "cell_type": "code",
   "execution_count": 11,
   "id": "dd0342e7",
   "metadata": {
    "execution": {
     "iopub.execute_input": "2023-10-27T21:11:15.878753Z",
     "iopub.status.busy": "2023-10-27T21:11:15.877697Z",
     "iopub.status.idle": "2023-10-27T21:11:15.885719Z",
     "shell.execute_reply": "2023-10-27T21:11:15.884324Z"
    },
    "papermill": {
     "duration": 0.021296,
     "end_time": "2023-10-27T21:11:15.888509",
     "exception": false,
     "start_time": "2023-10-27T21:11:15.867213",
     "status": "completed"
    },
    "tags": []
   },
   "outputs": [],
   "source": [
    "def fill_missing(df):\n",
    "    # Separate columns by data type (numeric and object)\n",
    "    numeric_features = []\n",
    "    categorical_features = []\n",
    "\n",
    "    for i in df.columns:\n",
    "        if df[i].dtype == 'object':\n",
    "            categorical_features.append(i)\n",
    "        else:\n",
    "            numeric_features.append(i)\n",
    "\n",
    "    # Fill missing values in numeric columns with the median\n",
    "    df[numeric_features] = df[numeric_features].fillna(df[numeric_features].median())\n",
    "\n",
    "    # Fill missing values in object columns with the mode\n",
    "    df[categorical_features] = df[categorical_features].fillna(df[categorical_features].mode().iloc[0])\n",
    "\n",
    "\n",
    "    return df\n"
   ]
  },
  {
   "cell_type": "code",
   "execution_count": 12,
   "id": "5440adf9",
   "metadata": {
    "execution": {
     "iopub.execute_input": "2023-10-27T21:11:15.908590Z",
     "iopub.status.busy": "2023-10-27T21:11:15.908196Z",
     "iopub.status.idle": "2023-10-27T21:11:19.977245Z",
     "shell.execute_reply": "2023-10-27T21:11:19.975883Z"
    },
    "papermill": {
     "duration": 4.08183,
     "end_time": "2023-10-27T21:11:19.979815",
     "exception": false,
     "start_time": "2023-10-27T21:11:15.897985",
     "status": "completed"
    },
    "tags": []
   },
   "outputs": [],
   "source": [
    "data = fill_missing(data)"
   ]
  },
  {
   "cell_type": "code",
   "execution_count": 13,
   "id": "7f0a4cb8",
   "metadata": {
    "execution": {
     "iopub.execute_input": "2023-10-27T21:11:20.000576Z",
     "iopub.status.busy": "2023-10-27T21:11:20.000181Z",
     "iopub.status.idle": "2023-10-27T21:11:20.305641Z",
     "shell.execute_reply": "2023-10-27T21:11:20.304129Z"
    },
    "papermill": {
     "duration": 0.319297,
     "end_time": "2023-10-27T21:11:20.308294",
     "exception": false,
     "start_time": "2023-10-27T21:11:19.988997",
     "status": "completed"
    },
    "tags": []
   },
   "outputs": [
    {
     "data": {
      "text/plain": [
       "id              0\n",
       "region          0\n",
       "price           0\n",
       "year            0\n",
       "manufacturer    0\n",
       "model           0\n",
       "condition       0\n",
       "cylinders       0\n",
       "fuel            0\n",
       "odometer        0\n",
       "title_status    0\n",
       "transmission    0\n",
       "type            0\n",
       "description     0\n",
       "state           0\n",
       "lat             0\n",
       "long            0\n",
       "posting_date    0\n",
       "removal_date    0\n",
       "dtype: int64"
      ]
     },
     "execution_count": 13,
     "metadata": {},
     "output_type": "execute_result"
    }
   ],
   "source": [
    "data.isnull().sum()"
   ]
  },
  {
   "cell_type": "code",
   "execution_count": 14,
   "id": "baefafc5",
   "metadata": {
    "execution": {
     "iopub.execute_input": "2023-10-27T21:11:20.328249Z",
     "iopub.status.busy": "2023-10-27T21:11:20.327891Z",
     "iopub.status.idle": "2023-10-27T21:11:20.414283Z",
     "shell.execute_reply": "2023-10-27T21:11:20.412612Z"
    },
    "papermill": {
     "duration": 0.100021,
     "end_time": "2023-10-27T21:11:20.417357",
     "exception": false,
     "start_time": "2023-10-27T21:11:20.317336",
     "status": "completed"
    },
    "tags": []
   },
   "outputs": [],
   "source": [
    "data.posting_date = pd.to_datetime(data.posting_date)"
   ]
  },
  {
   "cell_type": "code",
   "execution_count": 15,
   "id": "eb0ad505",
   "metadata": {
    "execution": {
     "iopub.execute_input": "2023-10-27T21:11:20.437869Z",
     "iopub.status.busy": "2023-10-27T21:11:20.437453Z",
     "iopub.status.idle": "2023-10-27T21:11:20.725285Z",
     "shell.execute_reply": "2023-10-27T21:11:20.723447Z"
    },
    "papermill": {
     "duration": 0.301045,
     "end_time": "2023-10-27T21:11:20.727606",
     "exception": false,
     "start_time": "2023-10-27T21:11:20.426561",
     "status": "completed"
    },
    "tags": []
   },
   "outputs": [
    {
     "name": "stdout",
     "output_type": "stream",
     "text": [
      "<class 'pandas.core.frame.DataFrame'>\n",
      "RangeIndex: 426880 entries, 0 to 426879\n",
      "Data columns (total 19 columns):\n",
      " #   Column        Non-Null Count   Dtype              \n",
      "---  ------        --------------   -----              \n",
      " 0   id            426880 non-null  int64              \n",
      " 1   region        426880 non-null  object             \n",
      " 2   price         426880 non-null  int64              \n",
      " 3   year          426880 non-null  float64            \n",
      " 4   manufacturer  426880 non-null  object             \n",
      " 5   model         426880 non-null  object             \n",
      " 6   condition     426880 non-null  object             \n",
      " 7   cylinders     426880 non-null  object             \n",
      " 8   fuel          426880 non-null  object             \n",
      " 9   odometer      426880 non-null  float64            \n",
      " 10  title_status  426880 non-null  object             \n",
      " 11  transmission  426880 non-null  object             \n",
      " 12  type          426880 non-null  object             \n",
      " 13  description   426880 non-null  object             \n",
      " 14  state         426880 non-null  object             \n",
      " 15  lat           426880 non-null  float64            \n",
      " 16  long          426880 non-null  float64            \n",
      " 17  posting_date  426880 non-null  datetime64[ns, UTC]\n",
      " 18  removal_date  426880 non-null  object             \n",
      "dtypes: datetime64[ns, UTC](1), float64(4), int64(2), object(12)\n",
      "memory usage: 61.9+ MB\n"
     ]
    }
   ],
   "source": [
    "data.info(((((((())))))))"
   ]
  },
  {
   "cell_type": "code",
   "execution_count": 16,
   "id": "024b4186",
   "metadata": {
    "execution": {
     "iopub.execute_input": "2023-10-27T21:11:20.748786Z",
     "iopub.status.busy": "2023-10-27T21:11:20.747728Z",
     "iopub.status.idle": "2023-10-27T21:11:20.754256Z",
     "shell.execute_reply": "2023-10-27T21:11:20.753278Z"
    },
    "papermill": {
     "duration": 0.019597,
     "end_time": "2023-10-27T21:11:20.756450",
     "exception": false,
     "start_time": "2023-10-27T21:11:20.736853",
     "status": "completed"
    },
    "tags": []
   },
   "outputs": [],
   "source": [
    "data.set_index('posting_date', inplace=True)"
   ]
  },
  {
   "cell_type": "code",
   "execution_count": 17,
   "id": "72b031ba",
   "metadata": {
    "execution": {
     "iopub.execute_input": "2023-10-27T21:11:20.776526Z",
     "iopub.status.busy": "2023-10-27T21:11:20.776138Z",
     "iopub.status.idle": "2023-10-27T21:11:20.798307Z",
     "shell.execute_reply": "2023-10-27T21:11:20.797194Z"
    },
    "papermill": {
     "duration": 0.034951,
     "end_time": "2023-10-27T21:11:20.800625",
     "exception": false,
     "start_time": "2023-10-27T21:11:20.765674",
     "status": "completed"
    },
    "tags": []
   },
   "outputs": [
    {
     "data": {
      "text/html": [
       "<div>\n",
       "<style scoped>\n",
       "    .dataframe tbody tr th:only-of-type {\n",
       "        vertical-align: middle;\n",
       "    }\n",
       "\n",
       "    .dataframe tbody tr th {\n",
       "        vertical-align: top;\n",
       "    }\n",
       "\n",
       "    .dataframe thead th {\n",
       "        text-align: right;\n",
       "    }\n",
       "</style>\n",
       "<table border=\"1\" class=\"dataframe\">\n",
       "  <thead>\n",
       "    <tr style=\"text-align: right;\">\n",
       "      <th></th>\n",
       "      <th>id</th>\n",
       "      <th>region</th>\n",
       "      <th>price</th>\n",
       "      <th>year</th>\n",
       "      <th>manufacturer</th>\n",
       "      <th>model</th>\n",
       "      <th>condition</th>\n",
       "      <th>cylinders</th>\n",
       "      <th>fuel</th>\n",
       "      <th>odometer</th>\n",
       "      <th>title_status</th>\n",
       "      <th>transmission</th>\n",
       "      <th>type</th>\n",
       "      <th>description</th>\n",
       "      <th>state</th>\n",
       "      <th>lat</th>\n",
       "      <th>long</th>\n",
       "      <th>removal_date</th>\n",
       "    </tr>\n",
       "    <tr>\n",
       "      <th>posting_date</th>\n",
       "      <th></th>\n",
       "      <th></th>\n",
       "      <th></th>\n",
       "      <th></th>\n",
       "      <th></th>\n",
       "      <th></th>\n",
       "      <th></th>\n",
       "      <th></th>\n",
       "      <th></th>\n",
       "      <th></th>\n",
       "      <th></th>\n",
       "      <th></th>\n",
       "      <th></th>\n",
       "      <th></th>\n",
       "      <th></th>\n",
       "      <th></th>\n",
       "      <th></th>\n",
       "      <th></th>\n",
       "    </tr>\n",
       "  </thead>\n",
       "  <tbody>\n",
       "    <tr>\n",
       "      <th>2021-04-16 00:00:00+00:00</th>\n",
       "      <td>7307679724</td>\n",
       "      <td>abilene</td>\n",
       "      <td>4500</td>\n",
       "      <td>2002.0</td>\n",
       "      <td>bmw</td>\n",
       "      <td>x5</td>\n",
       "      <td>good</td>\n",
       "      <td>6 cylinders</td>\n",
       "      <td>gas</td>\n",
       "      <td>184000.0</td>\n",
       "      <td>clean</td>\n",
       "      <td>automatic</td>\n",
       "      <td>sedan</td>\n",
       "      <td>$4,500 Cash  2002 BMW X5  8 cylinder 4.4L moto...</td>\n",
       "      <td>tx</td>\n",
       "      <td>32.401556</td>\n",
       "      <td>-99.884713</td>\n",
       "      <td>2021-05-02 00:00:00+00:00</td>\n",
       "    </tr>\n",
       "    <tr>\n",
       "      <th>2021-04-24 00:00:00+00:00</th>\n",
       "      <td>7311833696</td>\n",
       "      <td>abilene</td>\n",
       "      <td>4500</td>\n",
       "      <td>2002.0</td>\n",
       "      <td>bmw</td>\n",
       "      <td>x5</td>\n",
       "      <td>good</td>\n",
       "      <td>6 cylinders</td>\n",
       "      <td>gas</td>\n",
       "      <td>184000.0</td>\n",
       "      <td>clean</td>\n",
       "      <td>automatic</td>\n",
       "      <td>sedan</td>\n",
       "      <td>$4,500 Cash  2002 BMW X5  8 cylinder 4.4L moto...</td>\n",
       "      <td>tx</td>\n",
       "      <td>32.401556</td>\n",
       "      <td>-99.884713</td>\n",
       "      <td>2021-04-28 00:00:00+00:00</td>\n",
       "    </tr>\n",
       "    <tr>\n",
       "      <th>2021-04-23 00:00:00+00:00</th>\n",
       "      <td>7311441996</td>\n",
       "      <td>abilene</td>\n",
       "      <td>4900</td>\n",
       "      <td>2006.0</td>\n",
       "      <td>toyota</td>\n",
       "      <td>camry</td>\n",
       "      <td>excellent</td>\n",
       "      <td>4 cylinders</td>\n",
       "      <td>gas</td>\n",
       "      <td>184930.0</td>\n",
       "      <td>clean</td>\n",
       "      <td>automatic</td>\n",
       "      <td>sedan</td>\n",
       "      <td>2006 TOYOTA CAMRY LE Sedan   Ready To Upgrade ...</td>\n",
       "      <td>tx</td>\n",
       "      <td>32.453848</td>\n",
       "      <td>-99.787900</td>\n",
       "      <td>2021-05-25 00:00:00+00:00</td>\n",
       "    </tr>\n",
       "    <tr>\n",
       "      <th>2021-04-16 00:00:00+00:00</th>\n",
       "      <td>7307680715</td>\n",
       "      <td>abilene</td>\n",
       "      <td>6500</td>\n",
       "      <td>2008.0</td>\n",
       "      <td>ford</td>\n",
       "      <td>expedition</td>\n",
       "      <td>good</td>\n",
       "      <td>6 cylinders</td>\n",
       "      <td>gas</td>\n",
       "      <td>206000.0</td>\n",
       "      <td>clean</td>\n",
       "      <td>automatic</td>\n",
       "      <td>sedan</td>\n",
       "      <td>$6500.00 2008 Ford Expedition  8 cylinder 5.4L...</td>\n",
       "      <td>tx</td>\n",
       "      <td>32.401556</td>\n",
       "      <td>-99.884713</td>\n",
       "      <td>2021-04-26 00:00:00+00:00</td>\n",
       "    </tr>\n",
       "    <tr>\n",
       "      <th>2021-04-24 00:00:00+00:00</th>\n",
       "      <td>7311834578</td>\n",
       "      <td>abilene</td>\n",
       "      <td>6500</td>\n",
       "      <td>2008.0</td>\n",
       "      <td>ford</td>\n",
       "      <td>expedition</td>\n",
       "      <td>good</td>\n",
       "      <td>6 cylinders</td>\n",
       "      <td>gas</td>\n",
       "      <td>206000.0</td>\n",
       "      <td>clean</td>\n",
       "      <td>automatic</td>\n",
       "      <td>sedan</td>\n",
       "      <td>$6500.00 2008 Ford Expedition  8 cylinder 5.4L...</td>\n",
       "      <td>tx</td>\n",
       "      <td>32.401556</td>\n",
       "      <td>-99.884713</td>\n",
       "      <td>2021-05-12 00:00:00+00:00</td>\n",
       "    </tr>\n",
       "  </tbody>\n",
       "</table>\n",
       "</div>"
      ],
      "text/plain": [
       "                                   id   region  price    year manufacturer  \\\n",
       "posting_date                                                                 \n",
       "2021-04-16 00:00:00+00:00  7307679724  abilene   4500  2002.0          bmw   \n",
       "2021-04-24 00:00:00+00:00  7311833696  abilene   4500  2002.0          bmw   \n",
       "2021-04-23 00:00:00+00:00  7311441996  abilene   4900  2006.0       toyota   \n",
       "2021-04-16 00:00:00+00:00  7307680715  abilene   6500  2008.0         ford   \n",
       "2021-04-24 00:00:00+00:00  7311834578  abilene   6500  2008.0         ford   \n",
       "\n",
       "                                model  condition    cylinders fuel  odometer  \\\n",
       "posting_date                                                                   \n",
       "2021-04-16 00:00:00+00:00          x5       good  6 cylinders  gas  184000.0   \n",
       "2021-04-24 00:00:00+00:00          x5       good  6 cylinders  gas  184000.0   \n",
       "2021-04-23 00:00:00+00:00       camry  excellent  4 cylinders  gas  184930.0   \n",
       "2021-04-16 00:00:00+00:00  expedition       good  6 cylinders  gas  206000.0   \n",
       "2021-04-24 00:00:00+00:00  expedition       good  6 cylinders  gas  206000.0   \n",
       "\n",
       "                          title_status transmission   type  \\\n",
       "posting_date                                                 \n",
       "2021-04-16 00:00:00+00:00        clean    automatic  sedan   \n",
       "2021-04-24 00:00:00+00:00        clean    automatic  sedan   \n",
       "2021-04-23 00:00:00+00:00        clean    automatic  sedan   \n",
       "2021-04-16 00:00:00+00:00        clean    automatic  sedan   \n",
       "2021-04-24 00:00:00+00:00        clean    automatic  sedan   \n",
       "\n",
       "                                                                 description  \\\n",
       "posting_date                                                                   \n",
       "2021-04-16 00:00:00+00:00  $4,500 Cash  2002 BMW X5  8 cylinder 4.4L moto...   \n",
       "2021-04-24 00:00:00+00:00  $4,500 Cash  2002 BMW X5  8 cylinder 4.4L moto...   \n",
       "2021-04-23 00:00:00+00:00  2006 TOYOTA CAMRY LE Sedan   Ready To Upgrade ...   \n",
       "2021-04-16 00:00:00+00:00  $6500.00 2008 Ford Expedition  8 cylinder 5.4L...   \n",
       "2021-04-24 00:00:00+00:00  $6500.00 2008 Ford Expedition  8 cylinder 5.4L...   \n",
       "\n",
       "                          state        lat       long  \\\n",
       "posting_date                                            \n",
       "2021-04-16 00:00:00+00:00    tx  32.401556 -99.884713   \n",
       "2021-04-24 00:00:00+00:00    tx  32.401556 -99.884713   \n",
       "2021-04-23 00:00:00+00:00    tx  32.453848 -99.787900   \n",
       "2021-04-16 00:00:00+00:00    tx  32.401556 -99.884713   \n",
       "2021-04-24 00:00:00+00:00    tx  32.401556 -99.884713   \n",
       "\n",
       "                                        removal_date  \n",
       "posting_date                                          \n",
       "2021-04-16 00:00:00+00:00  2021-05-02 00:00:00+00:00  \n",
       "2021-04-24 00:00:00+00:00  2021-04-28 00:00:00+00:00  \n",
       "2021-04-23 00:00:00+00:00  2021-05-25 00:00:00+00:00  \n",
       "2021-04-16 00:00:00+00:00  2021-04-26 00:00:00+00:00  \n",
       "2021-04-24 00:00:00+00:00  2021-05-12 00:00:00+00:00  "
      ]
     },
     "execution_count": 17,
     "metadata": {},
     "output_type": "execute_result"
    }
   ],
   "source": [
    "data.head()"
   ]
  },
  {
   "cell_type": "code",
   "execution_count": 18,
   "id": "6435f3c8",
   "metadata": {
    "execution": {
     "iopub.execute_input": "2023-10-27T21:11:20.822265Z",
     "iopub.status.busy": "2023-10-27T21:11:20.821863Z",
     "iopub.status.idle": "2023-10-27T21:11:26.526922Z",
     "shell.execute_reply": "2023-10-27T21:11:26.525906Z"
    },
    "papermill": {
     "duration": 5.719399,
     "end_time": "2023-10-27T21:11:26.530049",
     "exception": false,
     "start_time": "2023-10-27T21:11:20.810650",
     "status": "completed"
    },
    "tags": []
   },
   "outputs": [
    {
     "data": {
      "application/javascript": [
       "\n",
       "        if (window._pyforest_update_imports_cell) { window._pyforest_update_imports_cell('import matplotlib.pyplot as plt'); }\n",
       "    "
      ],
      "text/plain": [
       "<IPython.core.display.Javascript object>"
      ]
     },
     "metadata": {},
     "output_type": "display_data"
    },
    {
     "data": {
      "application/javascript": [
       "\n",
       "        if (window._pyforest_update_imports_cell) { window._pyforest_update_imports_cell('import matplotlib.pyplot as plt'); }\n",
       "    "
      ],
      "text/plain": [
       "<IPython.core.display.Javascript object>"
      ]
     },
     "metadata": {},
     "output_type": "display_data"
    },
    {
     "data": {
      "application/javascript": [
       "\n",
       "        if (window._pyforest_update_imports_cell) { window._pyforest_update_imports_cell('import matplotlib.pyplot as plt'); }\n",
       "    "
      ],
      "text/plain": [
       "<IPython.core.display.Javascript object>"
      ]
     },
     "metadata": {},
     "output_type": "display_data"
    },
    {
     "data": {
      "application/javascript": [
       "\n",
       "        if (window._pyforest_update_imports_cell) { window._pyforest_update_imports_cell('import matplotlib.pyplot as plt'); }\n",
       "    "
      ],
      "text/plain": [
       "<IPython.core.display.Javascript object>"
      ]
     },
     "metadata": {},
     "output_type": "display_data"
    },
    {
     "data": {
      "application/javascript": [
       "\n",
       "        if (window._pyforest_update_imports_cell) { window._pyforest_update_imports_cell('import matplotlib.pyplot as plt'); }\n",
       "    "
      ],
      "text/plain": [
       "<IPython.core.display.Javascript object>"
      ]
     },
     "metadata": {},
     "output_type": "display_data"
    },
    {
     "data": {
      "application/javascript": [
       "\n",
       "        if (window._pyforest_update_imports_cell) { window._pyforest_update_imports_cell('import matplotlib.pyplot as plt'); }\n",
       "    "
      ],
      "text/plain": [
       "<IPython.core.display.Javascript object>"
      ]
     },
     "metadata": {},
     "output_type": "display_data"
    },
    {
     "data": {
      "application/javascript": [
       "\n",
       "        if (window._pyforest_update_imports_cell) { window._pyforest_update_imports_cell('import matplotlib.pyplot as plt'); }\n",
       "    "
      ],
      "text/plain": [
       "<IPython.core.display.Javascript object>"
      ]
     },
     "metadata": {},
     "output_type": "display_data"
    },
    {
     "data": {
      "image/png": "[encoded data removed]",
      "text/plain": [
       "<Figure size 1700x800 with 1 Axes>"
      ]
     },
     "metadata": {},
     "output_type": "display_data"
    }
   ],
   "source": [
    "plt.figure(figsize=(17, 8))\n",
    "plt.plot(data.price)\n",
    "plt.title('Prices with time')\n",
    "plt.ylabel('Price')\n",
    "plt.xlabel('day')\n",
    "plt.grid(False)\n",
    "plt.show()"
   ]
  },
  {
   "cell_type": "code",
   "execution_count": 19,
   "id": "5ba876a9",
   "metadata": {
    "execution": {
     "iopub.execute_input": "2023-10-27T21:11:26.558143Z",
     "iopub.status.busy": "2023-10-27T21:11:26.557709Z",
     "iopub.status.idle": "2023-10-27T21:11:26.674866Z",
     "shell.execute_reply": "2023-10-27T21:11:26.673747Z"
    },
    "papermill": {
     "duration": 0.13472,
     "end_time": "2023-10-27T21:11:26.677576",
     "exception": false,
     "start_time": "2023-10-27T21:11:26.542856",
     "status": "completed"
    },
    "tags": []
   },
   "outputs": [],
   "source": [
    "df_agg = data.groupby(['region', 'type', 'posting_date']).size().reset_index(name='count')\n",
    "# df_agg = df_agg.sort_values(by='posting_date')\n",
    "# df_freq = data.groupby(pd.Grouper(key='posting_date', freq='D')).sum().reset_index()"
   ]
  },
  {
   "cell_type": "code",
   "execution_count": 20,
   "id": "d727a7b5",
   "metadata": {
    "execution": {
     "iopub.execute_input": "2023-10-27T21:11:26.705813Z",
     "iopub.status.busy": "2023-10-27T21:11:26.705060Z",
     "iopub.status.idle": "2023-10-27T21:11:26.727142Z",
     "shell.execute_reply": "2023-10-27T21:11:26.726079Z"
    },
    "papermill": {
     "duration": 0.039165,
     "end_time": "2023-10-27T21:11:26.730035",
     "exception": false,
     "start_time": "2023-10-27T21:11:26.690870",
     "status": "completed"
    },
    "tags": []
   },
   "outputs": [
    {
     "data": {
      "text/html": [
       "<div>\n",
       "<style scoped>\n",
       "    .dataframe tbody tr th:only-of-type {\n",
       "        vertical-align: middle;\n",
       "    }\n",
       "\n",
       "    .dataframe tbody tr th {\n",
       "        vertical-align: top;\n",
       "    }\n",
       "\n",
       "    .dataframe thead th {\n",
       "        text-align: right;\n",
       "    }\n",
       "</style>\n",
       "<table border=\"1\" class=\"dataframe\">\n",
       "  <thead>\n",
       "    <tr style=\"text-align: right;\">\n",
       "      <th></th>\n",
       "      <th>region</th>\n",
       "      <th>type</th>\n",
       "      <th>posting_date</th>\n",
       "      <th>count</th>\n",
       "    </tr>\n",
       "  </thead>\n",
       "  <tbody>\n",
       "    <tr>\n",
       "      <th>47326</th>\n",
       "      <td>rochester</td>\n",
       "      <td>coupe</td>\n",
       "      <td>2021-04-04 00:00:00+00:00</td>\n",
       "      <td>4</td>\n",
       "    </tr>\n",
       "    <tr>\n",
       "      <th>13306</th>\n",
       "      <td>dayton / springfield</td>\n",
       "      <td>sedan</td>\n",
       "      <td>2021-04-04 00:00:00+00:00</td>\n",
       "      <td>4</td>\n",
       "    </tr>\n",
       "    <tr>\n",
       "      <th>1590</th>\n",
       "      <td>anchorage / mat-su</td>\n",
       "      <td>wagon</td>\n",
       "      <td>2021-04-04 00:00:00+00:00</td>\n",
       "      <td>1</td>\n",
       "    </tr>\n",
       "    <tr>\n",
       "      <th>13367</th>\n",
       "      <td>dayton / springfield</td>\n",
       "      <td>van</td>\n",
       "      <td>2021-04-04 00:00:00+00:00</td>\n",
       "      <td>1</td>\n",
       "    </tr>\n",
       "    <tr>\n",
       "      <th>36157</th>\n",
       "      <td>missoula</td>\n",
       "      <td>SUV</td>\n",
       "      <td>2021-04-04 00:00:00+00:00</td>\n",
       "      <td>1</td>\n",
       "    </tr>\n",
       "  </tbody>\n",
       "</table>\n",
       "</div>"
      ],
      "text/plain": [
       "                     region   type              posting_date  count\n",
       "47326             rochester  coupe 2021-04-04 00:00:00+00:00      4\n",
       "13306  dayton / springfield  sedan 2021-04-04 00:00:00+00:00      4\n",
       "1590     anchorage / mat-su  wagon 2021-04-04 00:00:00+00:00      1\n",
       "13367  dayton / springfield    van 2021-04-04 00:00:00+00:00      1\n",
       "36157              missoula    SUV 2021-04-04 00:00:00+00:00      1"
      ]
     },
     "execution_count": 20,
     "metadata": {},
     "output_type": "execute_result"
    }
   ],
   "source": [
    "df_agg = df_agg.sort_values(by='posting_date')\n",
    "df_agg.head()"
   ]
  },
  {
   "cell_type": "code",
   "execution_count": 21,
   "id": "3972c7e7",
   "metadata": {
    "execution": {
     "iopub.execute_input": "2023-10-27T21:11:26.758989Z",
     "iopub.status.busy": "2023-10-27T21:11:26.758218Z",
     "iopub.status.idle": "2023-10-27T21:11:26.846345Z",
     "shell.execute_reply": "2023-10-27T21:11:26.845099Z"
    },
    "papermill": {
     "duration": 0.105135,
     "end_time": "2023-10-27T21:11:26.849088",
     "exception": false,
     "start_time": "2023-10-27T21:11:26.743953",
     "status": "completed"
    },
    "tags": []
   },
   "outputs": [],
   "source": [
    "df_freq = df_agg.groupby(pd.Grouper(key='posting_date', freq='D')).sum().reset_index()"
   ]
  },
  {
   "cell_type": "code",
   "execution_count": 22,
   "id": "9e56b17e",
   "metadata": {
    "execution": {
     "iopub.execute_input": "2023-10-27T21:11:26.877868Z",
     "iopub.status.busy": "2023-10-27T21:11:26.877449Z",
     "iopub.status.idle": "2023-10-27T21:11:27.586622Z",
     "shell.execute_reply": "2023-10-27T21:11:27.585435Z"
    },
    "papermill": {
     "duration": 0.727376,
     "end_time": "2023-10-27T21:11:27.589375",
     "exception": false,
     "start_time": "2023-10-27T21:11:26.861999",
     "status": "completed"
    },
    "tags": []
   },
   "outputs": [
    {
     "data": {
      "application/javascript": [
       "\n",
       "        if (window._pyforest_update_imports_cell) { window._pyforest_update_imports_cell('import plotly.graph_objs as go\\nimport matplotlib.pyplot as plt'); }\n",
       "    "
      ],
      "text/plain": [
       "<IPython.core.display.Javascript object>"
      ]
     },
     "metadata": {},
     "output_type": "display_data"
    },
    {
     "data": {
      "application/javascript": [
       "\n",
       "        if (window._pyforest_update_imports_cell) { window._pyforest_update_imports_cell('import plotly.graph_objs as go\\nimport matplotlib.pyplot as plt'); }\n",
       "    "
      ],
      "text/plain": [
       "<IPython.core.display.Javascript object>"
      ]
     },
     "metadata": {},
     "output_type": "display_data"
    },
    {
     "data": {
      "text/html": [
       "        <script type=\"text/javascript\">\n",
       "        window.PlotlyConfig = {MathJaxConfig: 'local'};\n",
       "        if (window.MathJax && window.MathJax.Hub && window.MathJax.Hub.Config) {window.MathJax.Hub.Config({SVG: {font: \"STIX-Web\"}});}\n",
       "        if (typeof require !== 'undefined') {\n",
       "        require.undef(\"plotly\");\n",
       "        requirejs.config({\n",
       "            paths: {\n",
       "                'plotly': ['https://cdn.plot.ly/plotly-2.24.1.min']\n",
       "            }\n",
       "        });\n",
       "        require(['plotly'], function(Plotly) {\n",
       "            window._Plotly = Plotly;\n",
       "        });\n",
       "        }\n",
       "        </script>\n",
       "        "
      ]
     },
     "metadata": {},
     "output_type": "display_data"
    },
    {
     "data": {
      "text/html": [
       "<div>                            <div id=\"bf43e0b4-20d4-4991-8857-3620a76bef45\" class=\"plotly-graph-div\" style=\"height:525px; width:100%;\"></div>            <script type=\"text/javascript\">                require([\"plotly\"], function(Plotly) {                    window.PLOTLYENV=window.PLOTLYENV || {};                                    if (document.getElementById(\"bf43e0b4-20d4-4991-8857-3620a76bef45\")) {                    Plotly.newPlot(                        \"bf43e0b4-20d4-4991-8857-3620a76bef45\",                        [{\"marker\":{\"color\":\"royalblue\"},\"opacity\":0.8,\"x\":[\"2021-04-04T00:00:00+00:00\",\"2021-04-05T00:00:00+00:00\",\"2021-04-06T00:00:00+00:00\",\"2021-04-07T00:00:00+00:00\",\"2021-04-08T00:00:00+00:00\",\"2021-04-09T00:00:00+00:00\",\"2021-04-10T00:00:00+00:00\",\"2021-04-11T00:00:00+00:00\",\"2021-04-12T00:00:00+00:00\",\"2021-04-13T00:00:00+00:00\",\"2021-04-14T00:00:00+00:00\",\"2021-04-15T00:00:00+00:00\",\"2021-04-16T00:00:00+00:00\",\"2021-04-17T00:00:00+00:00\",\"2021-04-18T00:00:00+00:00\",\"2021-04-19T00:00:00+00:00\",\"2021-04-20T00:00:00+00:00\",\"2021-04-21T00:00:00+00:00\",\"2021-04-22T00:00:00+00:00\",\"2021-04-23T00:00:00+00:00\",\"2021-04-24T00:00:00+00:00\",\"2021-04-25T00:00:00+00:00\",\"2021-04-26T00:00:00+00:00\",\"2021-04-27T00:00:00+00:00\",\"2021-04-28T00:00:00+00:00\",\"2021-04-29T00:00:00+00:00\",\"2021-04-30T00:00:00+00:00\",\"2021-05-01T00:00:00+00:00\",\"2021-05-02T00:00:00+00:00\",\"2021-05-03T00:00:00+00:00\",\"2021-05-04T00:00:00+00:00\",\"2021-05-05T00:00:00+00:00\"],\"y\":[3517,7355,7106,7649,8612,9280,7825,5047,8707,8470,10034,10105,10945,11072,6306,10721,10868,12857,14580,18022,15476,8415,15203,17730,19191,19719,28332,27096,17814,33101,34362,1363],\"type\":\"bar\"}],                        {\"template\":{\"data\":{\"histogram2dcontour\":[{\"type\":\"histogram2dcontour\",\"colorbar\":{\"outlinewidth\":0,\"ticks\":\"\"},\"colorscale\":[[0.0,\"#0d0887\"],[0.1111111111111111,\"#46039f\"],[0.2222222222222222,\"#7201a8\"],[0.3333333333333333,\"#9c179e\"],[0.4444444444444444,\"#bd3786\"],[0.5555555555555556,\"#d8576b\"],[0.6666666666666666,\"#ed7953\"],[0.7777777777777778,\"#fb9f3a\"],[0.8888888888888888,\"#fdca26\"],[1.0,\"#f0f921\"]]}],\"choropleth\":[{\"type\":\"choropleth\",\"colorbar\":{\"outlinewidth\":0,\"ticks\":\"\"}}],\"histogram2d\":[{\"type\":\"histogram2d\",\"colorbar\":{\"outlinewidth\":0,\"ticks\":\"\"},\"colorscale\":[[0.0,\"#0d0887\"],[0.1111111111111111,\"#46039f\"],[0.2222222222222222,\"#7201a8\"],[0.3333333333333333,\"#9c179e\"],[0.4444444444444444,\"#bd3786\"],[0.5555555555555556,\"#d8576b\"],[0.6666666666666666,\"#ed7953\"],[0.7777777777777778,\"#fb9f3a\"],[0.8888888888888888,\"#fdca26\"],[1.0,\"#f0f921\"]]}],\"heatmap\":[{\"type\":\"heatmap\",\"colorbar\":{\"outlinewidth\":0,\"ticks\":\"\"},\"colorscale\":[[0.0,\"#0d0887\"],[0.1111111111111111,\"#46039f\"],[0.2222222222222222,\"#7201a8\"],[0.3333333333333333,\"#9c179e\"],[0.4444444444444444,\"#bd3786\"],[0.5555555555555556,\"#d8576b\"],[0.6666666666666666,\"#ed7953\"],[0.7777777777777778,\"#fb9f3a\"],[0.8888888888888888,\"#fdca26\"],[1.0,\"#f0f921\"]]}],\"heatmapgl\":[{\"type\":\"heatmapgl\",\"colorbar\":{\"outlinewidth\":0,\"ticks\":\"\"},\"colorscale\":[[0.0,\"#0d0887\"],[0.1111111111111111,\"#46039f\"],[0.2222222222222222,\"#7201a8\"],[0.3333333333333333,\"#9c179e\"],[0.4444444444444444,\"#bd3786\"],[0.5555555555555556,\"#d8576b\"],[0.6666666666666666,\"#ed7953\"],[0.7777777777777778,\"#fb9f3a\"],[0.8888888888888888,\"#fdca26\"],[1.0,\"#f0f921\"]]}],\"contourcarpet\":[{\"type\":\"contourcarpet\",\"colorbar\":{\"outlinewidth\":0,\"ticks\":\"\"}}],\"contour\":[{\"type\":\"contour\",\"colorbar\":{\"outlinewidth\":0,\"ticks\":\"\"},\"colorscale\":[[0.0,\"#0d0887\"],[0.1111111111111111,\"#46039f\"],[0.2222222222222222,\"#7201a8\"],[0.3333333333333333,\"#9c179e\"],[0.4444444444444444,\"#bd3786\"],[0.5555555555555556,\"#d8576b\"],[0.6666666666666666,\"#ed7953\"],[0.7777777777777778,\"#fb9f3a\"],[0.8888888888888888,\"#fdca26\"],[1.0,\"#f0f921\"]]}],\"surface\":[{\"type\":\"surface\",\"colorbar\":{\"outlinewidth\":0,\"ticks\":\"\"},\"colorscale\":[[0.0,\"#0d0887\"],[0.1111111111111111,\"#46039f\"],[0.2222222222222222,\"#7201a8\"],[0.3333333333333333,\"#9c179e\"],[0.4444444444444444,\"#bd3786\"],[0.5555555555555556,\"#d8576b\"],[0.6666666666666666,\"#ed7953\"],[0.7777777777777778,\"#fb9f3a\"],[0.8888888888888888,\"#fdca26\"],[1.0,\"#f0f921\"]]}],\"mesh3d\":[{\"type\":\"mesh3d\",\"colorbar\":{\"outlinewidth\":0,\"ticks\":\"\"}}],\"scatter\":[{\"fillpattern\":{\"fillmode\":\"overlay\",\"size\":10,\"solidity\":0.2},\"type\":\"scatter\"}],\"parcoords\":[{\"type\":\"parcoords\",\"line\":{\"colorbar\":{\"outlinewidth\":0,\"ticks\":\"\"}}}],\"scatterpolargl\":[{\"type\":\"scatterpolargl\",\"marker\":{\"colorbar\":{\"outlinewidth\":0,\"ticks\":\"\"}}}],\"bar\":[{\"error_x\":{\"color\":\"#2a3f5f\"},\"error_y\":{\"color\":\"#2a3f5f\"},\"marker\":{\"line\":{\"color\":\"#E5ECF6\",\"width\":0.5},\"pattern\":{\"fillmode\":\"overlay\",\"size\":10,\"solidity\":0.2}},\"type\":\"bar\"}],\"scattergeo\":[{\"type\":\"scattergeo\",\"marker\":{\"colorbar\":{\"outlinewidth\":0,\"ticks\":\"\"}}}],\"scatterpolar\":[{\"type\":\"scatterpolar\",\"marker\":{\"colorbar\":{\"outlinewidth\":0,\"ticks\":\"\"}}}],\"histogram\":[{\"marker\":{\"pattern\":{\"fillmode\":\"overlay\",\"size\":10,\"solidity\":0.2}},\"type\":\"histogram\"}],\"scattergl\":[{\"type\":\"scattergl\",\"marker\":{\"colorbar\":{\"outlinewidth\":0,\"ticks\":\"\"}}}],\"scatter3d\":[{\"type\":\"scatter3d\",\"line\":{\"colorbar\":{\"outlinewidth\":0,\"ticks\":\"\"}},\"marker\":{\"colorbar\":{\"outlinewidth\":0,\"ticks\":\"\"}}}],\"scattermapbox\":[{\"type\":\"scattermapbox\",\"marker\":{\"colorbar\":{\"outlinewidth\":0,\"ticks\":\"\"}}}],\"scatterternary\":[{\"type\":\"scatterternary\",\"marker\":{\"colorbar\":{\"outlinewidth\":0,\"ticks\":\"\"}}}],\"scattercarpet\":[{\"type\":\"scattercarpet\",\"marker\":{\"colorbar\":{\"outlinewidth\":0,\"ticks\":\"\"}}}],\"carpet\":[{\"aaxis\":{\"endlinecolor\":\"#2a3f5f\",\"gridcolor\":\"white\",\"linecolor\":\"white\",\"minorgridcolor\":\"white\",\"startlinecolor\":\"#2a3f5f\"},\"baxis\":{\"endlinecolor\":\"#2a3f5f\",\"gridcolor\":\"white\",\"linecolor\":\"white\",\"minorgridcolor\":\"white\",\"startlinecolor\":\"#2a3f5f\"},\"type\":\"carpet\"}],\"table\":[{\"cells\":{\"fill\":{\"color\":\"#EBF0F8\"},\"line\":{\"color\":\"white\"}},\"header\":{\"fill\":{\"color\":\"#C8D4E3\"},\"line\":{\"color\":\"white\"}},\"type\":\"table\"}],\"barpolar\":[{\"marker\":{\"line\":{\"color\":\"#E5ECF6\",\"width\":0.5},\"pattern\":{\"fillmode\":\"overlay\",\"size\":10,\"solidity\":0.2}},\"type\":\"barpolar\"}],\"pie\":[{\"automargin\":true,\"type\":\"pie\"}]},\"layout\":{\"autotypenumbers\":\"strict\",\"colorway\":[\"#636efa\",\"#EF553B\",\"#00cc96\",\"#ab63fa\",\"#FFA15A\",\"#19d3f3\",\"#FF6692\",\"#B6E880\",\"#FF97FF\",\"#FECB52\"],\"font\":{\"color\":\"#2a3f5f\"},\"hovermode\":\"closest\",\"hoverlabel\":{\"align\":\"left\"},\"paper_bgcolor\":\"white\",\"plot_bgcolor\":\"#E5ECF6\",\"polar\":{\"bgcolor\":\"#E5ECF6\",\"angularaxis\":{\"gridcolor\":\"white\",\"linecolor\":\"white\",\"ticks\":\"\"},\"radialaxis\":{\"gridcolor\":\"white\",\"linecolor\":\"white\",\"ticks\":\"\"}},\"ternary\":{\"bgcolor\":\"#E5ECF6\",\"aaxis\":{\"gridcolor\":\"white\",\"linecolor\":\"white\",\"ticks\":\"\"},\"baxis\":{\"gridcolor\":\"white\",\"linecolor\":\"white\",\"ticks\":\"\"},\"caxis\":{\"gridcolor\":\"white\",\"linecolor\":\"white\",\"ticks\":\"\"}},\"coloraxis\":{\"colorbar\":{\"outlinewidth\":0,\"ticks\":\"\"}},\"colorscale\":{\"sequential\":[[0.0,\"#0d0887\"],[0.1111111111111111,\"#46039f\"],[0.2222222222222222,\"#7201a8\"],[0.3333333333333333,\"#9c179e\"],[0.4444444444444444,\"#bd3786\"],[0.5555555555555556,\"#d8576b\"],[0.6666666666666666,\"#ed7953\"],[0.7777777777777778,\"#fb9f3a\"],[0.8888888888888888,\"#fdca26\"],[1.0,\"#f0f921\"]],\"sequentialminus\":[[0.0,\"#0d0887\"],[0.1111111111111111,\"#46039f\"],[0.2222222222222222,\"#7201a8\"],[0.3333333333333333,\"#9c179e\"],[0.4444444444444444,\"#bd3786\"],[0.5555555555555556,\"#d8576b\"],[0.6666666666666666,\"#ed7953\"],[0.7777777777777778,\"#fb9f3a\"],[0.8888888888888888,\"#fdca26\"],[1.0,\"#f0f921\"]],\"diverging\":[[0,\"#8e0152\"],[0.1,\"#c51b7d\"],[0.2,\"#de77ae\"],[0.3,\"#f1b6da\"],[0.4,\"#fde0ef\"],[0.5,\"#f7f7f7\"],[0.6,\"#e6f5d0\"],[0.7,\"#b8e186\"],[0.8,\"#7fbc41\"],[0.9,\"#4d9221\"],[1,\"#276419\"]]},\"xaxis\":{\"gridcolor\":\"white\",\"linecolor\":\"white\",\"ticks\":\"\",\"title\":{\"standoff\":15},\"zerolinecolor\":\"white\",\"automargin\":true,\"zerolinewidth\":2},\"yaxis\":{\"gridcolor\":\"white\",\"linecolor\":\"white\",\"ticks\":\"\",\"title\":{\"standoff\":15},\"zerolinecolor\":\"white\",\"automargin\":true,\"zerolinewidth\":2},\"scene\":{\"xaxis\":{\"backgroundcolor\":\"#E5ECF6\",\"gridcolor\":\"white\",\"linecolor\":\"white\",\"showbackground\":true,\"ticks\":\"\",\"zerolinecolor\":\"white\",\"gridwidth\":2},\"yaxis\":{\"backgroundcolor\":\"#E5ECF6\",\"gridcolor\":\"white\",\"linecolor\":\"white\",\"showbackground\":true,\"ticks\":\"\",\"zerolinecolor\":\"white\",\"gridwidth\":2},\"zaxis\":{\"backgroundcolor\":\"#E5ECF6\",\"gridcolor\":\"white\",\"linecolor\":\"white\",\"showbackground\":true,\"ticks\":\"\",\"zerolinecolor\":\"white\",\"gridwidth\":2}},\"shapedefaults\":{\"line\":{\"color\":\"#2a3f5f\"}},\"annotationdefaults\":{\"arrowcolor\":\"#2a3f5f\",\"arrowhead\":0,\"arrowwidth\":1},\"geo\":{\"bgcolor\":\"white\",\"landcolor\":\"#E5ECF6\",\"subunitcolor\":\"white\",\"showland\":true,\"showlakes\":true,\"lakecolor\":\"white\"},\"title\":{\"x\":0.05},\"mapbox\":{\"style\":\"light\"}}},\"xaxis\":{\"title\":{\"text\":\"Posting Date\"},\"tickangle\":-45},\"title\":{\"text\":\"Time Frequency Graph: Number of Vehicle Listings per Day\"},\"yaxis\":{\"title\":{\"text\":\"Number of Vehicle Listings\"}}},                        {\"responsive\": true}                    ).then(function(){\n",
       "                            \n",
       "var gd = document.getElementById('bf43e0b4-20d4-4991-8857-3620a76bef45');\n",
       "var x = new MutationObserver(function (mutations, observer) {{\n",
       "        var display = window.getComputedStyle(gd).display;\n",
       "        if (!display || display === 'none') {{\n",
       "            console.log([gd, 'removed!']);\n",
       "            Plotly.purge(gd);\n",
       "            observer.disconnect();\n",
       "        }}\n",
       "}});\n",
       "\n",
       "// Listen for the removal of the full notebook cells\n",
       "var notebookContainer = gd.closest('#notebook-container');\n",
       "if (notebookContainer) {{\n",
       "    x.observe(notebookContainer, {childList: true});\n",
       "}}\n",
       "\n",
       "// Listen for the clearing of the current output cell\n",
       "var outputEl = gd.closest('.output');\n",
       "if (outputEl) {{\n",
       "    x.observe(outputEl, {childList: true});\n",
       "}}\n",
       "\n",
       "                        })                };                });            </script>        </div>"
      ]
     },
     "metadata": {},
     "output_type": "display_data"
    }
   ],
   "source": [
    "df_freq = df_agg.groupby(pd.Grouper(key='posting_date', freq='D')).sum().reset_index()\n",
    "\n",
    "fig_freq = go.Figure(data=go.Bar(\n",
    "    x=df_freq['posting_date'],\n",
    "    y=df_freq['count'],\n",
    "    marker_color='royalblue',\n",
    "    opacity=0.8\n",
    "))\n",
    "\n",
    "fig_freq.update_layout(\n",
    "    title='Time Frequency Graph: Number of Vehicle Listings per Day',\n",
    "    xaxis_title='Posting Date',\n",
    "    yaxis_title='Number of Vehicle Listings',\n",
    "    xaxis_tickangle=-45,\n",
    ")\n",
    "fig_freq.show()"
   ]
  },
  {
   "cell_type": "code",
   "execution_count": 23,
   "id": "2ab6004a",
   "metadata": {
    "execution": {
     "iopub.execute_input": "2023-10-27T21:11:27.618434Z",
     "iopub.status.busy": "2023-10-27T21:11:27.617872Z",
     "iopub.status.idle": "2023-10-27T21:11:27.748110Z",
     "shell.execute_reply": "2023-10-27T21:11:27.746873Z"
    },
    "papermill": {
     "duration": 0.147868,
     "end_time": "2023-10-27T21:11:27.750884",
     "exception": false,
     "start_time": "2023-10-27T21:11:27.603016",
     "status": "completed"
    },
    "tags": []
   },
   "outputs": [],
   "source": [
    "#Daily Average price\n",
    "\n",
    "daily_average = data['price'].resample('D').mean()"
   ]
  },
  {
   "cell_type": "code",
   "execution_count": 24,
   "id": "a40052e5",
   "metadata": {
    "execution": {
     "iopub.execute_input": "2023-10-27T21:11:27.779611Z",
     "iopub.status.busy": "2023-10-27T21:11:27.778962Z",
     "iopub.status.idle": "2023-10-27T21:11:27.788131Z",
     "shell.execute_reply": "2023-10-27T21:11:27.787044Z"
    },
    "papermill": {
     "duration": 0.026622,
     "end_time": "2023-10-27T21:11:27.790855",
     "exception": false,
     "start_time": "2023-10-27T21:11:27.764233",
     "status": "completed"
    },
    "tags": []
   },
   "outputs": [
    {
     "data": {
      "text/plain": [
       "posting_date\n",
       "2021-04-04 00:00:00+00:00     23120.747228\n",
       "2021-04-05 00:00:00+00:00     42300.160571\n",
       "2021-04-06 00:00:00+00:00    544212.541373\n",
       "2021-04-07 00:00:00+00:00     35742.916852\n",
       "2021-04-08 00:00:00+00:00     19072.463539\n",
       "Freq: D, Name: price, dtype: float64"
      ]
     },
     "metadata": {},
     "output_type": "display_data"
    },
    {
     "name": "stdout",
     "output_type": "stream",
     "text": [
      "\n",
      "\n",
      "Aggregates mean prices for each day\n"
     ]
    }
   ],
   "source": [
    "display(daily_average.head())\n",
    "\n",
    "print(\"\\n\\nAggregates mean prices for each day\")"
   ]
  },
  {
   "cell_type": "code",
   "execution_count": 25,
   "id": "996b494c",
   "metadata": {
    "execution": {
     "iopub.execute_input": "2023-10-27T21:11:27.820269Z",
     "iopub.status.busy": "2023-10-27T21:11:27.819891Z",
     "iopub.status.idle": "2023-10-27T21:11:28.246157Z",
     "shell.execute_reply": "2023-10-27T21:11:28.245164Z"
    },
    "papermill": {
     "duration": 0.444174,
     "end_time": "2023-10-27T21:11:28.248678",
     "exception": false,
     "start_time": "2023-10-27T21:11:27.804504",
     "status": "completed"
    },
    "tags": []
   },
   "outputs": [
    {
     "data": {
      "application/javascript": [
       "\n",
       "        if (window._pyforest_update_imports_cell) { window._pyforest_update_imports_cell('import plotly.graph_objs as go\\nimport matplotlib.pyplot as plt'); }\n",
       "    "
      ],
      "text/plain": [
       "<IPython.core.display.Javascript object>"
      ]
     },
     "metadata": {},
     "output_type": "display_data"
    },
    {
     "data": {
      "application/javascript": [
       "\n",
       "        if (window._pyforest_update_imports_cell) { window._pyforest_update_imports_cell('import plotly.graph_objs as go\\nimport matplotlib.pyplot as plt'); }\n",
       "    "
      ],
      "text/plain": [
       "<IPython.core.display.Javascript object>"
      ]
     },
     "metadata": {},
     "output_type": "display_data"
    },
    {
     "data": {
      "application/javascript": [
       "\n",
       "        if (window._pyforest_update_imports_cell) { window._pyforest_update_imports_cell('import plotly.graph_objs as go\\nimport matplotlib.pyplot as plt'); }\n",
       "    "
      ],
      "text/plain": [
       "<IPython.core.display.Javascript object>"
      ]
     },
     "metadata": {},
     "output_type": "display_data"
    },
    {
     "data": {
      "application/javascript": [
       "\n",
       "        if (window._pyforest_update_imports_cell) { window._pyforest_update_imports_cell('import plotly.graph_objs as go\\nimport matplotlib.pyplot as plt'); }\n",
       "    "
      ],
      "text/plain": [
       "<IPython.core.display.Javascript object>"
      ]
     },
     "metadata": {},
     "output_type": "display_data"
    },
    {
     "data": {
      "application/javascript": [
       "\n",
       "        if (window._pyforest_update_imports_cell) { window._pyforest_update_imports_cell('import plotly.graph_objs as go\\nimport matplotlib.pyplot as plt'); }\n",
       "    "
      ],
      "text/plain": [
       "<IPython.core.display.Javascript object>"
      ]
     },
     "metadata": {},
     "output_type": "display_data"
    },
    {
     "data": {
      "application/javascript": [
       "\n",
       "        if (window._pyforest_update_imports_cell) { window._pyforest_update_imports_cell('import plotly.graph_objs as go\\nimport matplotlib.pyplot as plt'); }\n",
       "    "
      ],
      "text/plain": [
       "<IPython.core.display.Javascript object>"
      ]
     },
     "metadata": {},
     "output_type": "display_data"
    },
    {
     "data": {
      "image/png": "[encoded data removed]",
      "text/plain": [
       "<Figure size 1500x600 with 1 Axes>"
      ]
     },
     "metadata": {},
     "output_type": "display_data"
    }
   ],
   "source": [
    "plt.figure(figsize=(15, 6))\n",
    "daily_average.plot()\n",
    "plt.title('Daily Average Price')\n",
    "plt.xlabel('Date')\n",
    "plt.ylabel('Average Price')\n",
    "plt.grid(True)\n",
    "plt.show()"
   ]
  },
  {
   "cell_type": "code",
   "execution_count": 26,
   "id": "95abf7c2",
   "metadata": {
    "execution": {
     "iopub.execute_input": "2023-10-27T21:11:28.281336Z",
     "iopub.status.busy": "2023-10-27T21:11:28.280689Z",
     "iopub.status.idle": "2023-10-27T21:11:28.409050Z",
     "shell.execute_reply": "2023-10-27T21:11:28.408274Z"
    },
    "papermill": {
     "duration": 0.14724,
     "end_time": "2023-10-27T21:11:28.411149",
     "exception": false,
     "start_time": "2023-10-27T21:11:28.263909",
     "status": "completed"
    },
    "tags": []
   },
   "outputs": [
    {
     "data": {
      "text/plain": [
       "posting_date\n",
       "2021-04-30 00:00:00+00:00    88622.679119\n",
       "2021-05-31 00:00:00+00:00    38240.337773\n",
       "Freq: M, Name: price, dtype: float64"
      ]
     },
     "metadata": {},
     "output_type": "display_data"
    },
    {
     "name": "stdout",
     "output_type": "stream",
     "text": [
      "\n",
      "\n",
      " The Data only covers two months \n"
     ]
    }
   ],
   "source": [
    "## Monthly Average\n",
    "\n",
    "Monthly_average = data.price.resample('M').mean()\n",
    "\n",
    "display(Monthly_average)\n",
    "print(\"\\n\\n The Data only covers two months \")"
   ]
  },
  {
   "cell_type": "code",
   "execution_count": 27,
   "id": "2cbcf074",
   "metadata": {
    "execution": {
     "iopub.execute_input": "2023-10-27T21:11:28.506074Z",
     "iopub.status.busy": "2023-10-27T21:11:28.505646Z",
     "iopub.status.idle": "2023-10-27T21:11:28.766034Z",
     "shell.execute_reply": "2023-10-27T21:11:28.764868Z"
    },
    "papermill": {
     "duration": 0.280149,
     "end_time": "2023-10-27T21:11:28.768857",
     "exception": false,
     "start_time": "2023-10-27T21:11:28.488708",
     "status": "completed"
    },
    "tags": []
   },
   "outputs": [
    {
     "data": {
      "application/javascript": [
       "\n",
       "        if (window._pyforest_update_imports_cell) { window._pyforest_update_imports_cell('import plotly.graph_objs as go\\nimport matplotlib.pyplot as plt'); }\n",
       "    "
      ],
      "text/plain": [
       "<IPython.core.display.Javascript object>"
      ]
     },
     "metadata": {},
     "output_type": "display_data"
    },
    {
     "data": {
      "application/javascript": [
       "\n",
       "        if (window._pyforest_update_imports_cell) { window._pyforest_update_imports_cell('import plotly.graph_objs as go\\nimport matplotlib.pyplot as plt'); }\n",
       "    "
      ],
      "text/plain": [
       "<IPython.core.display.Javascript object>"
      ]
     },
     "metadata": {},
     "output_type": "display_data"
    },
    {
     "data": {
      "application/javascript": [
       "\n",
       "        if (window._pyforest_update_imports_cell) { window._pyforest_update_imports_cell('import plotly.graph_objs as go\\nimport matplotlib.pyplot as plt'); }\n",
       "    "
      ],
      "text/plain": [
       "<IPython.core.display.Javascript object>"
      ]
     },
     "metadata": {},
     "output_type": "display_data"
    },
    {
     "data": {
      "application/javascript": [
       "\n",
       "        if (window._pyforest_update_imports_cell) { window._pyforest_update_imports_cell('import plotly.graph_objs as go\\nimport matplotlib.pyplot as plt'); }\n",
       "    "
      ],
      "text/plain": [
       "<IPython.core.display.Javascript object>"
      ]
     },
     "metadata": {},
     "output_type": "display_data"
    },
    {
     "data": {
      "application/javascript": [
       "\n",
       "        if (window._pyforest_update_imports_cell) { window._pyforest_update_imports_cell('import plotly.graph_objs as go\\nimport matplotlib.pyplot as plt'); }\n",
       "    "
      ],
      "text/plain": [
       "<IPython.core.display.Javascript object>"
      ]
     },
     "metadata": {},
     "output_type": "display_data"
    },
    {
     "data": {
      "application/javascript": [
       "\n",
       "        if (window._pyforest_update_imports_cell) { window._pyforest_update_imports_cell('import plotly.graph_objs as go\\nimport matplotlib.pyplot as plt'); }\n",
       "    "
      ],
      "text/plain": [
       "<IPython.core.display.Javascript object>"
      ]
     },
     "metadata": {},
     "output_type": "display_data"
    },
    {
     "data": {
      "image/png": "[encoded data removed]",
      "text/plain": [
       "<Figure size 1500x600 with 1 Axes>"
      ]
     },
     "metadata": {},
     "output_type": "display_data"
    }
   ],
   "source": [
    "plt.figure(figsize=(15, 6))\n",
    "Monthly_average.plot()\n",
    "plt.title('Monthly Average Price')\n",
    "plt.xlabel('Month')\n",
    "plt.ylabel('Average Price')\n",
    "plt.grid(True)\n",
    "plt.show()"
   ]
  },
  {
   "cell_type": "code",
   "execution_count": 28,
   "id": "936bf42b",
   "metadata": {
    "execution": {
     "iopub.execute_input": "2023-10-27T21:11:28.804388Z",
     "iopub.status.busy": "2023-10-27T21:11:28.804003Z",
     "iopub.status.idle": "2023-10-27T21:11:28.930907Z",
     "shell.execute_reply": "2023-10-27T21:11:28.929755Z"
    },
    "papermill": {
     "duration": 0.147494,
     "end_time": "2023-10-27T21:11:28.933365",
     "exception": false,
     "start_time": "2023-10-27T21:11:28.785871",
     "status": "completed"
    },
    "tags": []
   },
   "outputs": [
    {
     "data": {
      "text/plain": [
       "posting_date\n",
       "2021-04-04 00:00:00+00:00     23120.747228\n",
       "2021-04-04 01:00:00+00:00              NaN\n",
       "2021-04-04 02:00:00+00:00              NaN\n",
       "2021-04-04 03:00:00+00:00              NaN\n",
       "2021-04-04 04:00:00+00:00              NaN\n",
       "                                 ...      \n",
       "2021-05-04 20:00:00+00:00              NaN\n",
       "2021-05-04 21:00:00+00:00              NaN\n",
       "2021-05-04 22:00:00+00:00              NaN\n",
       "2021-05-04 23:00:00+00:00              NaN\n",
       "2021-05-05 00:00:00+00:00    106818.047689\n",
       "Freq: H, Name: price, Length: 745, dtype: float64"
      ]
     },
     "metadata": {},
     "output_type": "display_data"
    }
   ],
   "source": [
    "## Hourly Average\n",
    "\n",
    "hourly_average = data.price.resample('H').mean()\n",
    "display(hourly_average)\n"
   ]
  },
  {
   "cell_type": "code",
   "execution_count": 29,
   "id": "6dfc1058",
   "metadata": {
    "execution": {
     "iopub.execute_input": "2023-10-27T21:11:28.969456Z",
     "iopub.status.busy": "2023-10-27T21:11:28.969089Z",
     "iopub.status.idle": "2023-10-27T21:11:28.974921Z",
     "shell.execute_reply": "2023-10-27T21:11:28.973747Z"
    },
    "papermill": {
     "duration": 0.026902,
     "end_time": "2023-10-27T21:11:28.977314",
     "exception": false,
     "start_time": "2023-10-27T21:11:28.950412",
     "status": "completed"
    },
    "tags": []
   },
   "outputs": [
    {
     "name": "stdout",
     "output_type": "stream",
     "text": [
      "\n",
      "\n",
      " Looks like cars were not sold Every hour\n"
     ]
    }
   ],
   "source": [
    "print(\"\\n\\n Looks like cars were not sold Every hour\")"
   ]
  },
  {
   "cell_type": "code",
   "execution_count": 30,
   "id": "36ef684c",
   "metadata": {
    "execution": {
     "iopub.execute_input": "2023-10-27T21:11:29.013699Z",
     "iopub.status.busy": "2023-10-27T21:11:29.013282Z",
     "iopub.status.idle": "2023-10-27T21:11:29.362780Z",
     "shell.execute_reply": "2023-10-27T21:11:29.361576Z"
    },
    "papermill": {
     "duration": 0.370761,
     "end_time": "2023-10-27T21:11:29.365187",
     "exception": false,
     "start_time": "2023-10-27T21:11:28.994426",
     "status": "completed"
    },
    "tags": []
   },
   "outputs": [
    {
     "data": {
      "application/javascript": [
       "\n",
       "        if (window._pyforest_update_imports_cell) { window._pyforest_update_imports_cell('import plotly.graph_objs as go\\nimport matplotlib.pyplot as plt'); }\n",
       "    "
      ],
      "text/plain": [
       "<IPython.core.display.Javascript object>"
      ]
     },
     "metadata": {},
     "output_type": "display_data"
    },
    {
     "data": {
      "application/javascript": [
       "\n",
       "        if (window._pyforest_update_imports_cell) { window._pyforest_update_imports_cell('import plotly.graph_objs as go\\nimport matplotlib.pyplot as plt'); }\n",
       "    "
      ],
      "text/plain": [
       "<IPython.core.display.Javascript object>"
      ]
     },
     "metadata": {},
     "output_type": "display_data"
    },
    {
     "data": {
      "application/javascript": [
       "\n",
       "        if (window._pyforest_update_imports_cell) { window._pyforest_update_imports_cell('import plotly.graph_objs as go\\nimport matplotlib.pyplot as plt'); }\n",
       "    "
      ],
      "text/plain": [
       "<IPython.core.display.Javascript object>"
      ]
     },
     "metadata": {},
     "output_type": "display_data"
    },
    {
     "data": {
      "application/javascript": [
       "\n",
       "        if (window._pyforest_update_imports_cell) { window._pyforest_update_imports_cell('import plotly.graph_objs as go\\nimport matplotlib.pyplot as plt'); }\n",
       "    "
      ],
      "text/plain": [
       "<IPython.core.display.Javascript object>"
      ]
     },
     "metadata": {},
     "output_type": "display_data"
    },
    {
     "data": {
      "application/javascript": [
       "\n",
       "        if (window._pyforest_update_imports_cell) { window._pyforest_update_imports_cell('import plotly.graph_objs as go\\nimport matplotlib.pyplot as plt'); }\n",
       "    "
      ],
      "text/plain": [
       "<IPython.core.display.Javascript object>"
      ]
     },
     "metadata": {},
     "output_type": "display_data"
    },
    {
     "data": {
      "application/javascript": [
       "\n",
       "        if (window._pyforest_update_imports_cell) { window._pyforest_update_imports_cell('import plotly.graph_objs as go\\nimport matplotlib.pyplot as plt'); }\n",
       "    "
      ],
      "text/plain": [
       "<IPython.core.display.Javascript object>"
      ]
     },
     "metadata": {},
     "output_type": "display_data"
    },
    {
     "data": {
      "image/png": "[encoded data removed]",
      "text/plain": [
       "<Figure size 1500x600 with 1 Axes>"
      ]
     },
     "metadata": {},
     "output_type": "display_data"
    }
   ],
   "source": [
    "plt.figure(figsize=(15, 6))\n",
    "hourly_average.plot()\n",
    "plt.title('Monthly Average Price')\n",
    "plt.xlabel('Month')\n",
    "plt.ylabel('Average Price')\n",
    "plt.grid(True)\n",
    "plt.show()"
   ]
  },
  {
   "cell_type": "code",
   "execution_count": null,
   "id": "82a2d475",
   "metadata": {
    "papermill": {
     "duration": 0.018042,
     "end_time": "2023-10-27T21:11:29.401414",
     "exception": false,
     "start_time": "2023-10-27T21:11:29.383372",
     "status": "completed"
    },
    "tags": []
   },
   "outputs": [],
   "source": []
  }
 ],
 "metadata": {
  "kernelspec": {
   "display_name": "Python 3",
   "language": "python",
   "name": "python3"
  },
  "language_info": {
   "codemirror_mode": {
    "name": "ipython",
    "version": 3
   },
   "file_extension": ".py",
   "mimetype": "text/x-python",
   "name": "python",
   "nbconvert_exporter": "python",
   "pygments_lexer": "ipython3",
   "version": "3.10.12"
  },
  "papermill": {
   "default_parameters": {},
   "duration": 85.847974,
   "end_time": "2023-10-27T21:11:30.342683",
   "environment_variables": {},
   "exception": null,
   "input_path": "__notebook__.ipynb",
   "output_path": "__notebook__.ipynb",
   "parameters": {},
   "start_time": "2023-10-27T21:10:04.494709",
   "version": "2.4.0"
  }
 },
 "nbformat": 4,
 "nbformat_minor": 5
}
